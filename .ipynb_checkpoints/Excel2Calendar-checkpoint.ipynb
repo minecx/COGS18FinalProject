{
 "cells": [
  {
   "cell_type": "code",
   "execution_count": 81,
   "metadata": {
    "scrolled": false
   },
   "outputs": [],
   "source": [
    "# Written by Chongbin Zhang. \n",
    "# Designed to facilitate UCSD HDH's calendar import from events organized in excel table. \n",
    "\n",
    "# necessary imports\n",
    "import pandas as pd\n",
    "from pandas import ExcelWriter\n",
    "from pandas import ExcelFile\n",
    "from datetime import datetime\n",
    "from icalendar import Calendar, Event\n",
    "\n",
    "import StrToInt\n",
    "import TimeProcessor"
   ]
  },
  {
   "cell_type": "code",
   "execution_count": 82,
   "metadata": {},
   "outputs": [
    {
     "ename": "NameError",
     "evalue": "name 'stringIsInt' is not defined",
     "output_type": "error",
     "traceback": [
      "\u001b[0;31m---------------------------------------------------------------------------\u001b[0m",
      "\u001b[0;31mNameError\u001b[0m                                 Traceback (most recent call last)",
      "\u001b[0;32m<ipython-input-82-d5864fc3d189>\u001b[0m in \u001b[0;36m<module>\u001b[0;34m\u001b[0m\n\u001b[1;32m     21\u001b[0m         \u001b[0mprint\u001b[0m\u001b[0;34m(\u001b[0m\u001b[0;34m\"ERROR:\"\u001b[0m\u001b[0;34m,\u001b[0m \u001b[0mlistConfName\u001b[0m\u001b[0;34m[\u001b[0m\u001b[0mi\u001b[0m\u001b[0;34m]\u001b[0m\u001b[0;34m,\u001b[0m \u001b[0;34m\", because arrival time count is entered as:\\n\\t“\"\u001b[0m\u001b[0;34m,\u001b[0m \u001b[0mtemp\u001b[0m\u001b[0;34m[\u001b[0m\u001b[0;36m0\u001b[0m\u001b[0;34m]\u001b[0m\u001b[0;34m,\u001b[0m \u001b[0;34m\"”\\nPlease enter this event manually. \"\u001b[0m\u001b[0;34m)\u001b[0m\u001b[0;34m\u001b[0m\u001b[0;34m\u001b[0m\u001b[0m\n\u001b[1;32m     22\u001b[0m     \u001b[0;32melse\u001b[0m\u001b[0;34m:\u001b[0m\u001b[0;34m\u001b[0m\u001b[0;34m\u001b[0m\u001b[0m\n\u001b[0;32m---> 23\u001b[0;31m         \u001b[0mlistArrvTime\u001b[0m\u001b[0;34m.\u001b[0m\u001b[0mappend\u001b[0m\u001b[0;34m(\u001b[0m\u001b[0mTimeProcessor\u001b[0m\u001b[0;34m.\u001b[0m\u001b[0mprocess\u001b[0m\u001b[0;34m(\u001b[0m\u001b[0mtemp\u001b[0m\u001b[0;34m[\u001b[0m\u001b[0;36m0\u001b[0m\u001b[0;34m]\u001b[0m\u001b[0;34m)\u001b[0m\u001b[0;34m)\u001b[0m\u001b[0;34m\u001b[0m\u001b[0;34m\u001b[0m\u001b[0m\n\u001b[0m\u001b[1;32m     24\u001b[0m \u001b[0;34m\u001b[0m\u001b[0m\n\u001b[1;32m     25\u001b[0m     \u001b[0;32mif\u001b[0m \u001b[0mlen\u001b[0m\u001b[0;34m(\u001b[0m\u001b[0mtemp\u001b[0m\u001b[0;34m)\u001b[0m \u001b[0;34m<=\u001b[0m \u001b[0;36m1\u001b[0m\u001b[0;34m:\u001b[0m\u001b[0;34m\u001b[0m\u001b[0;34m\u001b[0m\u001b[0m\n",
      "\u001b[0;32m~/Desktop/Side_Projects/COGS18FinalProject/TimeProcessor.py\u001b[0m in \u001b[0;36mprocess\u001b[0;34m(strin)\u001b[0m\n\u001b[1;32m     12\u001b[0m         \u001b[0;32mif\u001b[0m \u001b[0mbegin\u001b[0m\u001b[0;34m[\u001b[0m\u001b[0;36m1\u001b[0m\u001b[0;34m]\u001b[0m\u001b[0;34m.\u001b[0m\u001b[0mfind\u001b[0m\u001b[0;34m(\u001b[0m\u001b[0;34m'p'\u001b[0m\u001b[0;34m)\u001b[0m \u001b[0;34m!=\u001b[0m \u001b[0;34m-\u001b[0m\u001b[0;36m1\u001b[0m\u001b[0;34m:\u001b[0m\u001b[0;34m\u001b[0m\u001b[0;34m\u001b[0m\u001b[0m\n\u001b[1;32m     13\u001b[0m             \u001b[0mpm\u001b[0m \u001b[0;34m=\u001b[0m \u001b[0;32mTrue\u001b[0m\u001b[0;34m\u001b[0m\u001b[0;34m\u001b[0m\u001b[0m\n\u001b[0;32m---> 14\u001b[0;31m         \u001b[0mbegin\u001b[0m\u001b[0;34m[\u001b[0m\u001b[0;36m1\u001b[0m\u001b[0;34m]\u001b[0m \u001b[0;34m=\u001b[0m \u001b[0mbegin\u001b[0m\u001b[0;34m[\u001b[0m\u001b[0;36m1\u001b[0m\u001b[0;34m]\u001b[0m\u001b[0;34m[\u001b[0m\u001b[0;36m0\u001b[0m\u001b[0;34m:\u001b[0m\u001b[0;36m2\u001b[0m\u001b[0;34m]\u001b[0m \u001b[0;31m# truncate am/pm\u001b[0m\u001b[0;34m\u001b[0m\u001b[0;34m\u001b[0m\u001b[0m\n\u001b[0m\u001b[1;32m     15\u001b[0m         \u001b[0mbegin\u001b[0m\u001b[0;34m[\u001b[0m\u001b[0;36m0\u001b[0m\u001b[0;34m]\u001b[0m \u001b[0;34m=\u001b[0m \u001b[0mStrToInt\u001b[0m\u001b[0;34m.\u001b[0m\u001b[0mstringIsInt\u001b[0m\u001b[0;34m(\u001b[0m\u001b[0mbegin\u001b[0m\u001b[0;34m[\u001b[0m\u001b[0;36m0\u001b[0m\u001b[0;34m]\u001b[0m\u001b[0;34m)\u001b[0m\u001b[0;34m\u001b[0m\u001b[0;34m\u001b[0m\u001b[0m\n\u001b[1;32m     16\u001b[0m         \u001b[0;32mif\u001b[0m \u001b[0mpm\u001b[0m\u001b[0;34m:\u001b[0m\u001b[0;34m\u001b[0m\u001b[0;34m\u001b[0m\u001b[0m\n",
      "\u001b[0;31mNameError\u001b[0m: name 'stringIsInt' is not defined"
     ]
    }
   ],
   "source": [
    "# open the excel and parse all the columns into lists\n",
    "# df stands for data frame\n",
    "df = pd.read_excel('SampleEvents.xls', sheet_name = 'Sheet1')\n",
    "listConfName = df['Conference Name']\n",
    "listHousArea = df['College Housing Area']\n",
    "listConfCord = df['Conference Coordinator']\n",
    "listArrvDate = df['Arrival 1 : Date']\n",
    "listArrTm_Ct = df['Arrival 1 : Time, Count']\n",
    "listChkInstr = df['Arrival 1 : Check-In Instructions']\n",
    "listMobi_Plc = df['Mobile Check-In Location  & Date']\n",
    "    \n",
    "listArrvTime = []\n",
    "listArrCount = []\n",
    "\n",
    "for i in range(0, 4): \n",
    "    \n",
    "    # split arrival time & people count, 0~150 is ERC Desk\n",
    "    temp = listArrTm_Ct[i].split(', ')\n",
    "    \n",
    "    if temp[0].find(':') == -1 and temp[0].find('a') == -1 and temp[0].find('p') == -1: # bad format\n",
    "        print(\"ERROR:\", listConfName[i], \", because arrival time count is entered as:\\n\\t“\", temp[0], \"”\\nPlease enter this event manually. \")\n",
    "    else:\n",
    "        listArrvTime.append(TimeProcessor.process(temp[0]))\n",
    "        \n",
    "    if len(temp) <= 1:\n",
    "        print(\"Event:\", listConfName[i], \"has no given arrival people count. Setting it to zero. \")\n",
    "        listArrCount.append(0)\n",
    "    else:\n",
    "        incount = StrToInt.stringIsInt(temp[1])\n",
    "        if not incount:\n",
    "            print(\"ERROR:\", listConfName[i], \", because people count is entered as:\\n\\t“\", temp[1], \"”\\nPlease enter this event manually. \")\n",
    "        else:\n",
    "            listArrCount.append(incount)\n",
    "\n",
    "listArrTm_Ct = None # free memory"
   ]
  },
  {
   "cell_type": "code",
   "execution_count": 76,
   "metadata": {},
   "outputs": [],
   "source": [
    "# Calendar() to write to .ics file\n",
    "cal = Calendar()\n",
    "\n",
    "# iterate through the table to create .ics file, 150 is the last for ERC desk in this file\n",
    "for i in range(0, (len(listArrvTime) - 1)):\n",
    "    \n",
    "    event = Event()\n",
    "\n",
    "    peopleCount = listArrCount[i]\n",
    "    beginhr = listArrvTime[i][0]\n",
    "    beginmin = listArrvTime[i][1]\n",
    "    endhr = listArrvTime[i][2]\n",
    "    endmin = listArrvTime[i][3]\n",
    "    \n",
    "    begin = datetime(int(listArrvDate[i].year), int(listArrvDate[i].month), int(listArrvDate[i].day), \n",
    "                     beginhr, beginmin)\n",
    "    end = datetime(int(listArrvDate[i].year), int(listArrvDate[i].month), int(listArrvDate[i].day), \n",
    "                   endhr, endmin)\n",
    "    \n",
    "    # Add people count in title\n",
    "    summary = listConfName[i] + ' (' + str(peopleCount) + ')'\n",
    "    \n",
    "    # categorize, \"nan\" means the cell in Excel table is empty\n",
    "    if listMobi_Plc[i] == \"nan\": \n",
    "        summary = summary + ' (Check-in)'\n",
    "    else: \n",
    "        summary += ' (Mobile Check-in)'\n",
    "    \n",
    "    event.add('summary', summary)\n",
    "    event.add('description', listChkInstr[i])\n",
    "    event.add('dtstart', begin)\n",
    "    event.add('dtend', end)\n",
    "    cal.add_component(event)\n",
    "\n",
    "    filename = './' + summary + '.ics'\n",
    "    file = open(filename, 'wb')\n",
    "    file.write(cal.to_ical())\n",
    "    file.close()\n",
    "    event.clear()\n",
    "    "
   ]
  },
  {
   "cell_type": "markdown",
   "metadata": {},
   "source": [
    "Extra Credit Challenges: \n",
    "I self taught try-catch, iCalendar module and file I/O for this python project."
   ]
  },
  {
   "cell_type": "markdown",
   "metadata": {},
   "source": [
    "· Try-catch is essential when trying to convert an int to string: if it failed it will raise an error, and this   cannot be handled with if-else or other conditional block. To me the most challenging part of try-catch is to\n",
    "  learn the syntax (since I used to program in Java and C but little in Python) and learning to catch the\n",
    "  correct type of error."
   ]
  },
  {
   "cell_type": "markdown",
   "metadata": {},
   "source": [
    "· iCalendar and file I/O module is essential for writing the output of all the functions to calendar (.ics)\n",
    "  file. To me the most challenging part of iCalendar and file I/O is ... TODOTODOTODOTODOTODO"
   ]
  },
  {
   "cell_type": "code",
   "execution_count": null,
   "metadata": {},
   "outputs": [],
   "source": []
  }
 ],
 "metadata": {
  "kernelspec": {
   "display_name": "Python 3",
   "language": "python",
   "name": "python3"
  },
  "language_info": {
   "codemirror_mode": {
    "name": "ipython",
    "version": 3
   },
   "file_extension": ".py",
   "mimetype": "text/x-python",
   "name": "python",
   "nbconvert_exporter": "python",
   "pygments_lexer": "ipython3",
   "version": "3.7.3"
  }
 },
 "nbformat": 4,
 "nbformat_minor": 2
}
