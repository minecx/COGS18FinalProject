{
 "cells": [
  {
   "cell_type": "code",
   "execution_count": 1,
   "metadata": {
    "scrolled": false
   },
   "outputs": [],
   "source": [
    "# Written by Chongbin Zhang. \n",
    "# Designed to facilitate UCSD HDH's calendar import from events organized in excel table. \n",
    "\n",
    "# necessary imports\n",
    "import pandas as pd\n",
    "from pandas import ExcelWriter\n",
    "from pandas import ExcelFile\n",
    "from datetime import datetime\n",
    "from icalendar import Calendar, Event"
   ]
  },
  {
   "cell_type": "code",
   "execution_count": 50,
   "metadata": {},
   "outputs": [],
   "source": [
    "def stringIsInt(strin):\n",
    "    if type(strin) is not str:\n",
    "        raise(InputIsNotStringError())\n",
    "    try:\n",
    "        intout = int(strin)\n",
    "        return intout\n",
    "    except ValueError:\n",
    "        return False"
   ]
  },
  {
   "cell_type": "code",
   "execution_count": 54,
   "metadata": {},
   "outputs": [
    {
     "name": "stdout",
     "output_type": "stream",
     "text": [
      "ERROR parsing:  Alexa Café by iD Tech Camps-Week 2 , because people count is entered incorrectly as: 0 . Please enter this event manually. \n",
      "ERROR parsing:  Alexa Café by iD Tech Camps-Week 3 , because people count is entered incorrectly as: 0 . Please enter this event manually. \n",
      "ERROR parsing:  SKYUS-Senri High School , because arrival time count is entered incorrectly as: Check in time TBD Please enter this event manually. \n",
      "ERROR parsing:  SKYUS-Senri High School , because people count is entered incorrectly as: 44 Participants including chaperones . Please enter this event manually. \n",
      "ERROR parsing:  TCLI Summer Leadership Program , because people count is entered incorrectly as: 14 Staff only on this date . Please enter this event manually. \n",
      "ERROR parsing:  SKYUS-Senri High School , because arrival time count is entered incorrectly as: Check out by 11AM Please enter this event manually. \n",
      "ERROR parsing:  SKYUS-Senri High School , because people count is entered incorrectly as: 44 Participants . Please enter this event manually. \n",
      "ERROR parsing:  TCLI Summer Leadership Program , because people count is entered incorrectly as: 110 Participants . Please enter this event manually. \n",
      "ERROR parsing:  Explorer Academy , because people count is entered incorrectly as: 33-50 . Please enter this event manually. \n",
      "ERROR parsing:  KCNA Conference , because people count is entered incorrectly as: 55\n",
      "\n",
      "ARRIVAL 4: 12:00pm . Please enter this event manually. \n",
      "ERROR parsing:  TRIO SSSP Experience , because people count is entered incorrectly as: (1) suite for (6) housed staff and office . Please enter this event manually. \n",
      "ERROR parsing:  Explorer Academy , because people count is entered incorrectly as: 33-50 . Please enter this event manually. \n",
      "ERROR parsing:  Intercollegiate Teams Pre-Season Housing 1-ICA 1 , because people count is entered incorrectly as: 0+ . Please enter this event manually. \n"
     ]
    }
   ],
   "source": [
    "# open the excel and parse all the columns into lists, df stands for data frame\n",
    "df = pd.read_excel('ERCDeskEvents.xls', sheet_name='Sheet1')\n",
    "listConfName = df['Conference Name']\n",
    "listHousArea = df['College Housing Area']\n",
    "listConfCord = df['Conference Coordinator']\n",
    "listArrvDate = df['Arrival 1 : Date']\n",
    "listArrTm_Ct = df['Arrival 1 : Time, Count']\n",
    "listChkInstr = df['Arrival 1 : Check-In Instructions']\n",
    "listMobi_Plc = df['Mobile Check-In Location  & Date']\n",
    "    \n",
    "listArrvTime = listArrCount = []\n",
    "\n",
    "for i in range(0, 150): # split arrival time & people count, 0~150 is ERC Desk\n",
    "    temp = listArrTm_Ct[i].split(', ')\n",
    "    if temp[0].find(':') == -1 and temp[0].find('a') == -1 and temp[0].find('p') == -1:\n",
    "        print(\"ERROR parsing: \", listConfName[i], \", because arrival time count is entered incorrectly as:\", \n",
    "              temp[0], \"Please enter this event manually. \")\n",
    "    else:\n",
    "        listArrvTime.append(temp[0])\n",
    "    if len(temp) <= 1:\n",
    "        listArrCount.append(0)\n",
    "    else:\n",
    "        income = stringIsInt(temp[1])\n",
    "        if not income:\n",
    "            print(\"ERROR parsing: \", listConfName[i], \", because people count is entered incorrectly as:\", \n",
    "                  temp[1], \". Please enter this event manually. \")\n",
    "        else:\n",
    "            listArrCount.append(income)\n",
    "\n",
    "listArrTm_Ct = None # free memory\n",
    "cal = Calendar()"
   ]
  },
  {
   "cell_type": "code",
   "execution_count": null,
   "metadata": {},
   "outputs": [],
   "source": [
    "# iterate through the table to create .ics file, 150 is the last for ERC desk in this file\n",
    "for i in range(3, 6):\n",
    "    print('conference name: ', listConfName[i])\n",
    "    event = Event()\n",
    "        \n",
    "    # date start & end\n",
    "    peopleCount = listArrTm_Ct[i][1]\n",
    "    \n",
    "    try: \n",
    "        separator = listArrTm_Ct[i][0].index('-') # has a end time\n",
    "        beginTime = listArrTm_Ct[i][0][0:separator].split(':')\n",
    "        endTime = listArrTm_Ct[i][0][separator + 1:len(listArrTm_Ct[i][0]) + 1].split(':')\n",
    "    except ValueError: # no end time b/c no '-' in arrival time: assume 1 hour long \n",
    "        begin = listArrTm_Ct[i][0].index('m')\n",
    "        beginTime = listArrTm_Ct[i][0][0:(begin + 1)]\n",
    "        beginTime = beginTime.split(':')\n",
    "        endHour = int(beginTime[0:beginTime.index(':')]) + 1\n",
    "        endTime = str(endHour) + ':' + beginTime[beginTime.index(':') + 1:len(beginTime) + 1]\n",
    "            \n",
    "    print('begin time: ', beginTime)\n",
    "    begin = datetime(int(listArrvDate[i].year), int(listArrvDate[i].month), int(listArrvDate[i].day), \n",
    "                     int(beginTime[0]), int(beginTime[1][0:2]))\n",
    "    end = datetime(int(listArrvDate[i].year), int(listArrvDate[i].month), int(listArrvDate[i].day), \n",
    "                   int(endTime[0]), int(endTime[1][0:2]))\n",
    "    \n",
    "    # Add people count in title\n",
    "    summary = listConfName[i] + ' (' + str(peopleCount) + ')'\n",
    "    \n",
    "    # categorize\n",
    "    if listMobi_Plc[i] == \"nan\": \n",
    "        summary = summary + ' (Check-in)'\n",
    "    # elif (font is red): \n",
    "    #     event.add('categories, 'Check-out')\n",
    "    else: \n",
    "        summary += ' (Mobile Check-in)'\n",
    "    \n",
    "    event.add('summary', summary)\n",
    "    event.add('description', listChkInstr[i])\n",
    "    event.add('dtstart', begin)\n",
    "    event.add('dtend', end)\n",
    "    cal.add_component(event)\n",
    "\n",
    "    filename = './' + summary + '.ics'\n",
    "    file = open(filename, 'wb')\n",
    "    file.write(cal.to_ical())\n",
    "    file.close()\n",
    "\n",
    "\n"
   ]
  },
  {
   "cell_type": "code",
   "execution_count": null,
   "metadata": {},
   "outputs": [],
   "source": []
  },
  {
   "cell_type": "code",
   "execution_count": null,
   "metadata": {},
   "outputs": [],
   "source": []
  }
 ],
 "metadata": {
  "kernelspec": {
   "display_name": "Python 3",
   "language": "python",
   "name": "python3"
  },
  "language_info": {
   "codemirror_mode": {
    "name": "ipython",
    "version": 3
   },
   "file_extension": ".py",
   "mimetype": "text/x-python",
   "name": "python",
   "nbconvert_exporter": "python",
   "pygments_lexer": "ipython3",
   "version": "3.7.3"
  }
 },
 "nbformat": 4,
 "nbformat_minor": 2
}
