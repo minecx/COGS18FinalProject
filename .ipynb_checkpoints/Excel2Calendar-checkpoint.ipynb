{
 "cells": [
  {
   "cell_type": "code",
   "execution_count": 1,
   "metadata": {
    "scrolled": false
   },
   "outputs": [],
   "source": [
    "# Written by Chongbin Zhang. \n",
    "# Designed to facilitate UCSD HDH's calendar import from events organized in excel table. \n",
    "\n",
    "# necessary imports\n",
    "import pandas as pd\n",
    "from pandas import ExcelWriter\n",
    "from pandas import ExcelFile\n",
    "from datetime import datetime\n",
    "from icalendar import Calendar, Event"
   ]
  },
  {
   "cell_type": "code",
   "execution_count": 7,
   "metadata": {},
   "outputs": [],
   "source": [
    "# a cell for helper methods\n",
    "\n",
    "# stringIsInt\n",
    "# check if the input string can be parsed into an integer\n",
    "# if so, return that integer\n",
    "# else return false\n",
    "# @param: strin, the input string to be checked\n",
    "\n",
    "def stringIsInt(strin):\n",
    "    if type(strin) is not str:\n",
    "        raise(InputIsNotStringError())\n",
    "    try:\n",
    "        intout = int(strin)\n",
    "        return intout\n",
    "    except ValueError:\n",
    "        return False\n",
    "    \n",
    "    \n",
    "def timeProcessor(strin):\n",
    "    if strin.find('-') == -1:\n",
    "        pm = False\n",
    "        strin = strin.split(':')\n",
    "        if strin[1].find('p') != -1:\n",
    "            pm = True\n",
    "        strin[1] = strin[1][0:2]\n",
    "        strin[0] = stringIsInt(strin[0])\n",
    "        if pm:\n",
    "            strin[0] += 12\n",
    "        strin[1] = stringIsInt(strin[1])\n",
    "        return strin\n",
    "    else:\n",
    "        beginpm = False\n",
    "        endpm = False\n",
    "        strin = strin.split('-')\n",
    "        begin = strin[0]\n",
    "        end = strin[1]\n",
    "        if begin.find('p') != -1:\n",
    "            beginpm = True\n",
    "        if end.find('p') != -1:\n",
    "            endpm = True\n",
    "        begin = begin.split(':')\n",
    "        end = end.split(':')\n",
    "        begin[1] = begin[1][0:2]\n",
    "        begin[0] = stringIsInt(begin[0])\n",
    "        if beginpm:\n",
    "            begin[0] += 12\n",
    "        end[1] = end[1][0:2]\n",
    "        end[0] = stringIsInt(end[0])\n",
    "        if endpm:\n",
    "            end[0] += 12\n",
    "        result = [begin, end]\n",
    "        return result"
   ]
  },
  {
   "cell_type": "code",
   "execution_count": 9,
   "metadata": {},
   "outputs": [
    {
     "name": "stdout",
     "output_type": "stream",
     "text": [
      "ERROR parsing:  SKYUS-Senri High School , because arrival time count is entered as:“ Check in time TBD ”Please enter this event manually. \n",
      "ERROR parsing:  SKYUS-Senri High School , because people count is entered as:“ 44 Participants including chaperones ”. Please enter this event manually. \n"
     ]
    }
   ],
   "source": [
    "# open the excel and parse all the columns into lists\n",
    "# df stands for data frame\n",
    "df = pd.read_excel('SampleEvents.xls', sheet_name = 'Sheet1')\n",
    "listConfName = df['Conference Name']\n",
    "listHousArea = df['College Housing Area']\n",
    "listConfCord = df['Conference Coordinator']\n",
    "listArrvDate = df['Arrival 1 : Date']\n",
    "listArrTm_Ct = df['Arrival 1 : Time, Count']\n",
    "listChkInstr = df['Arrival 1 : Check-In Instructions']\n",
    "listMobi_Plc = df['Mobile Check-In Location  & Date']\n",
    "    \n",
    "listArrvTime = listArrCount = []\n",
    "\n",
    "for i in range(0, 4): \n",
    "    \n",
    "    # split arrival time & people count, 0~150 is ERC Desk\n",
    "    temp = listArrTm_Ct[i].split(', ')\n",
    "    \n",
    "    # time only in these formats: 1:00pm, 11:00am, 11:00am-1:00pm\n",
    "    if temp[0].find(':') == -1 and temp[0].find('a') == -1 and temp[0].find('p') == -1: # bad format\n",
    "        print(\"ERROR parsing: \", listConfName[i], \", because arrival time count is entered as:“\", temp[0], \"”Please enter this event manually. \")\n",
    "    else:\n",
    "        listArrvTime.append(timeProcessor(temp[0]))\n",
    "        \n",
    "    if len(temp) <= 1:\n",
    "        listArrCount.append(0)\n",
    "    else:\n",
    "        income = stringIsInt(temp[1])\n",
    "        if not income:\n",
    "            print(\"ERROR parsing: \", listConfName[i], \", because people count is entered as:“\", temp[1], \"”. Please enter this event manually. \")\n",
    "        else:\n",
    "            listArrCount.append(income)\n",
    "\n",
    "    # print(listConfName[i], \"\\t\", listArrCount[i], \"\\t\", listArrvTime[i])\n",
    "listArrTm_Ct = None # free memory\n"
   ]
  },
  {
   "cell_type": "code",
   "execution_count": 10,
   "metadata": {},
   "outputs": [
    {
     "ename": "TypeError",
     "evalue": "'NoneType' object is not subscriptable",
     "output_type": "error",
     "traceback": [
      "\u001b[0;31m---------------------------------------------------------------------------\u001b[0m",
      "\u001b[0;31mTypeError\u001b[0m                                 Traceback (most recent call last)",
      "\u001b[0;32m<ipython-input-10-d1fe7971e91f>\u001b[0m in \u001b[0;36m<module>\u001b[0;34m\u001b[0m\n\u001b[1;32m      9\u001b[0m \u001b[0;34m\u001b[0m\u001b[0m\n\u001b[1;32m     10\u001b[0m     \u001b[0;32mtry\u001b[0m\u001b[0;34m:\u001b[0m\u001b[0;34m\u001b[0m\u001b[0;34m\u001b[0m\u001b[0m\n\u001b[0;32m---> 11\u001b[0;31m         \u001b[0mseparator\u001b[0m \u001b[0;34m=\u001b[0m \u001b[0mlistArrTm_Ct\u001b[0m\u001b[0;34m[\u001b[0m\u001b[0mi\u001b[0m\u001b[0;34m]\u001b[0m\u001b[0;34m[\u001b[0m\u001b[0;36m0\u001b[0m\u001b[0;34m]\u001b[0m\u001b[0;34m.\u001b[0m\u001b[0mindex\u001b[0m\u001b[0;34m(\u001b[0m\u001b[0;34m'-'\u001b[0m\u001b[0;34m)\u001b[0m \u001b[0;31m# has a end time\u001b[0m\u001b[0;34m\u001b[0m\u001b[0;34m\u001b[0m\u001b[0m\n\u001b[0m\u001b[1;32m     12\u001b[0m         \u001b[0mbeginTime\u001b[0m \u001b[0;34m=\u001b[0m \u001b[0mlistArrTm_Ct\u001b[0m\u001b[0;34m[\u001b[0m\u001b[0mi\u001b[0m\u001b[0;34m]\u001b[0m\u001b[0;34m[\u001b[0m\u001b[0;36m0\u001b[0m\u001b[0;34m]\u001b[0m\u001b[0;34m[\u001b[0m\u001b[0;36m0\u001b[0m\u001b[0;34m:\u001b[0m\u001b[0mseparator\u001b[0m\u001b[0;34m]\u001b[0m\u001b[0;34m.\u001b[0m\u001b[0msplit\u001b[0m\u001b[0;34m(\u001b[0m\u001b[0;34m':'\u001b[0m\u001b[0;34m)\u001b[0m\u001b[0;34m\u001b[0m\u001b[0;34m\u001b[0m\u001b[0m\n\u001b[1;32m     13\u001b[0m         \u001b[0mendTime\u001b[0m \u001b[0;34m=\u001b[0m \u001b[0mlistArrTm_Ct\u001b[0m\u001b[0;34m[\u001b[0m\u001b[0mi\u001b[0m\u001b[0;34m]\u001b[0m\u001b[0;34m[\u001b[0m\u001b[0;36m0\u001b[0m\u001b[0;34m]\u001b[0m\u001b[0;34m[\u001b[0m\u001b[0mseparator\u001b[0m \u001b[0;34m+\u001b[0m \u001b[0;36m1\u001b[0m\u001b[0;34m:\u001b[0m\u001b[0mlen\u001b[0m\u001b[0;34m(\u001b[0m\u001b[0mlistArrTm_Ct\u001b[0m\u001b[0;34m[\u001b[0m\u001b[0mi\u001b[0m\u001b[0;34m]\u001b[0m\u001b[0;34m[\u001b[0m\u001b[0;36m0\u001b[0m\u001b[0;34m]\u001b[0m\u001b[0;34m)\u001b[0m \u001b[0;34m+\u001b[0m \u001b[0;36m1\u001b[0m\u001b[0;34m]\u001b[0m\u001b[0;34m.\u001b[0m\u001b[0msplit\u001b[0m\u001b[0;34m(\u001b[0m\u001b[0;34m':'\u001b[0m\u001b[0;34m)\u001b[0m\u001b[0;34m\u001b[0m\u001b[0;34m\u001b[0m\u001b[0m\n",
      "\u001b[0;31mTypeError\u001b[0m: 'NoneType' object is not subscriptable"
     ]
    }
   ],
   "source": [
    "# Calendar() to write to .ics file\n",
    "cal = Calendar()\n",
    "\n",
    "# iterate through the table to create .ics file, 150 is the last for ERC desk in this file\n",
    "for i in range(0, 4):\n",
    "    event = Event()\n",
    "\n",
    "    peopleCount = listArrCount[i]\n",
    "    \n",
    "    try: \n",
    "        separator = listArrTm_Ct[i][0].index('-') # has a end time\n",
    "        beginTime = listArrTm_Ct[i][0][0:separator].split(':')\n",
    "        endTime = listArrTm_Ct[i][0][separator + 1:len(listArrTm_Ct[i][0]) + 1].split(':')\n",
    "    except ValueError: # no end time b/c no '-' in arrival time: assume 1 hour long \n",
    "        begin = listArrTm_Ct[i][0].index('m')\n",
    "        beginTime = listArrTm_Ct[i][0][0:(begin + 1)]\n",
    "        beginTime = beginTime.split(':')\n",
    "        endHour = int(beginTime[0:beginTime.index(':')]) + 1\n",
    "        endTime = str(endHour) + ':' + beginTime[beginTime.index(':') + 1:len(beginTime) + 1]\n",
    "            \n",
    "    print('begin time: ', beginTime)\n",
    "    begin = datetime(int(listArrvDate[i].year), int(listArrvDate[i].month), int(listArrvDate[i].day), \n",
    "                     int(beginTime[0]), int(beginTime[1][0:2]))\n",
    "    end = datetime(int(listArrvDate[i].year), int(listArrvDate[i].month), int(listArrvDate[i].day), \n",
    "                   int(endTime[0]), int(endTime[1][0:2]))\n",
    "    \n",
    "    # Add people count in title\n",
    "    summary = listConfName[i] + ' (' + str(peopleCount) + ')'\n",
    "    \n",
    "    # categorize\n",
    "    if listMobi_Plc[i] == \"nan\": \n",
    "        summary = summary + ' (Check-in)'\n",
    "    # elif (font is red): \n",
    "    #     event.add('categories, 'Check-out')\n",
    "    else: \n",
    "        summary += ' (Mobile Check-in)'\n",
    "    \n",
    "    event.add('summary', summary)\n",
    "    event.add('description', listChkInstr[i])\n",
    "    event.add('dtstart', begin)\n",
    "    event.add('dtend', end)\n",
    "    cal.add_component(event)\n",
    "\n",
    "    filename = './' + summary + '.ics'\n",
    "    file = open(filename, 'wb')\n",
    "    file.write(cal.to_ical())\n",
    "    file.close()\n",
    "\n",
    "\n"
   ]
  },
  {
   "cell_type": "code",
   "execution_count": null,
   "metadata": {},
   "outputs": [],
   "source": []
  },
  {
   "cell_type": "code",
   "execution_count": null,
   "metadata": {},
   "outputs": [],
   "source": []
  }
 ],
 "metadata": {
  "kernelspec": {
   "display_name": "Python 3",
   "language": "python",
   "name": "python3"
  },
  "language_info": {
   "codemirror_mode": {
    "name": "ipython",
    "version": 3
   },
   "file_extension": ".py",
   "mimetype": "text/x-python",
   "name": "python",
   "nbconvert_exporter": "python",
   "pygments_lexer": "ipython3",
   "version": "3.7.3"
  }
 },
 "nbformat": 4,
 "nbformat_minor": 2
}
